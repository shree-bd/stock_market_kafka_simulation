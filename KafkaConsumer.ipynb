{
 "cells": [
  {
   "cell_type": "code",
   "execution_count": 18,
   "id": "1c02fb76-4ddb-49a5-88a1-83646d4ba28d",
   "metadata": {},
   "outputs": [],
   "source": [
    "# Importing the packages\n",
    "from kafka import KafkaConsumer\n",
    "from time import sleep\n",
    "from json import dumps,loads\n",
    "import json\n",
    "from s3fs import S3FileSystem\n",
    "import threading\n",
    "from kafka import KafkaConsumer"
   ]
  },
  {
   "cell_type": "code",
   "execution_count": null,
   "id": "e5af11ff-f089-4c10-8854-94e0f780ea8c",
   "metadata": {},
   "outputs": [],
   "source": [
    "# Creating the consumer object\n",
    "consumer = KafkaConsumer(\n",
    "    'demo_test_2',\n",
    "     bootstrap_servers=['3.19.71.205:9092'], #add your IP here\n",
    "    value_deserializer=lambda x: loads(x.decode('utf-8')))"
   ]
  },
  {
   "cell_type": "code",
   "execution_count": null,
   "id": "82c25ddd-7495-48a0-ba17-87beff688264",
   "metadata": {},
   "outputs": [],
   "source": [
    "# Testing the response here in consumer from producer\n",
    "    # for c in consumer:\n",
    "    #     print(c.value)"
   ]
  },
  {
   "cell_type": "code",
   "execution_count": 7,
   "id": "64f6c36a-212d-41bd-922a-08f0591e2327",
   "metadata": {},
   "outputs": [],
   "source": [
    "s3=S3FileSystem()"
   ]
  },
  {
   "cell_type": "code",
   "execution_count": null,
   "id": "a6db72b9-9bab-4824-a2ca-2bc1e9b7b704",
   "metadata": {},
   "outputs": [],
   "source": [
    "# we will count the records incoming in streams\n",
    "# for count, i in enumerate(consumer):\n",
    "#     print(count)\n",
    "#     print(i.value)"
   ]
  },
  {
   "cell_type": "code",
   "execution_count": null,
   "id": "8619e9ff-9604-47f2-8cf7-3b4e52808f81",
   "metadata": {},
   "outputs": [],
   "source": [
    "for count, i in enumerate(consumer):\n",
    "    with s3.open(\"s3://stock-market-kafka-project-shridhar/stock_market_{}.json\".format(count), 'w') as file:\n",
    "        json.dump(i.value, file)   "
   ]
  },
  {
   "cell_type": "code",
   "execution_count": null,
   "id": "db4e564d-83c2-4f81-a145-d1ac080c28fa",
   "metadata": {},
   "outputs": [],
   "source": []
  }
 ],
 "metadata": {
  "kernelspec": {
   "display_name": "Python 3 (ipykernel)",
   "language": "python",
   "name": "python3"
  },
  "language_info": {
   "codemirror_mode": {
    "name": "ipython",
    "version": 3
   },
   "file_extension": ".py",
   "mimetype": "text/x-python",
   "name": "python",
   "nbconvert_exporter": "python",
   "pygments_lexer": "ipython3",
   "version": "3.11.5"
  }
 },
 "nbformat": 4,
 "nbformat_minor": 5
}
